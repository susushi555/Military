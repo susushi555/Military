from ipyleaflet import Map, Marker, Popup, basemaps
from ipywidgets import HTML, Button, VBox
import json
import map as mp

gdf_ll = mp.gdf.to_crs(4326)
m = Map(center=(gdf_ll.geometry.y.mean(), gdf_ll.geometry.x.mean()),
        zoom=6, basemap=basemaps.OpenStreetMap.Mapnik)

markers = []

for _, row in gdf_ll.iterrows():
    mk = Marker(location=(row.geometry.y, row.geometry.x), draggable=True)
    mk.popup = Popup(child=HTML(f"<b>{row['name']}</b><br>勢力:{row['side']}<br>要員:{row['personnel']}"))
    m.add(mk); markers[row["id"]] = mk
    
btn = Button(description="位置を保存", button_style="sources")
def save(_):
    fc = {"type":"FeatureCollection", "features":[]}
    for uid, mk in markers.items():
        r = gdf_ll[gdf_ll["id"]==uid].iloc[0]
        fc["features"].append({"type":"Feature",
                               "geometry":{"type":"Point","coordinates":[mk.location[1], mk.location[0]]},
                               "properties":{"id":int(uid),"name":r["name"],"side":r["side"],
                               "personnel":int(r["personnel"]), "sidc":r["sidc"]}})
    with open("data/units.csv", "w", encoding="utf-8") as f: json.dump(fc,f,ensure_ascii=False,indent=2)
btn.on_click(save)
VBox([m,btn])